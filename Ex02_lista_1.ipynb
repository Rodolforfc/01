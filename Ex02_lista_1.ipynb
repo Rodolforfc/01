{
  "nbformat": 4,
  "nbformat_minor": 0,
  "metadata": {
    "colab": {
      "name": "Ex02_lista_1",
      "provenance": [],
      "collapsed_sections": [],
      "authorship_tag": "ABX9TyMEbSxGGENIfZUU5sCfFNTJ",
      "include_colab_link": true
    },
    "kernelspec": {
      "name": "python3",
      "display_name": "Python 3"
    },
    "language_info": {
      "name": "python"
    }
  },
  "cells": [
    {
      "cell_type": "markdown",
      "metadata": {
        "id": "view-in-github",
        "colab_type": "text"
      },
      "source": [
        "<a href=\"https://colab.research.google.com/github/Rodolforfc/01/blob/master/Ex02_lista_1.ipynb\" target=\"_parent\"><img src=\"https://colab.research.google.com/assets/colab-badge.svg\" alt=\"Open In Colab\"/></a>"
      ]
    },
    {
      "cell_type": "code",
      "execution_count": 2,
      "metadata": {
        "colab": {
          "base_uri": "https://localhost:8080/"
        },
        "id": "EFjU35bcEfMT",
        "outputId": "f8084be3-5eff-4f20-d02e-0e98be1d8bac"
      },
      "outputs": [
        {
          "output_type": "stream",
          "name": "stdout",
          "text": [
            "Digite um numero2\n",
            "o numero digitado foi: 2\n"
          ]
        }
      ],
      "source": [
        "numero = input('Digite um numero')\n",
        "print(\"o numero digitado foi:\", numero)"
      ]
    }
  ]
}